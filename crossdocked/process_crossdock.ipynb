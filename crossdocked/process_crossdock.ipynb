{
 "cells": [
  {
   "cell_type": "code",
   "execution_count": 2,
   "metadata": {},
   "outputs": [
    {
     "name": "stderr",
     "output_type": "stream",
     "text": [
      "/home/wonho/.conda/envs/wonho2/lib/python3.9/site-packages/tqdm/auto.py:22: TqdmWarning: IProgress not found. Please update jupyter and ipywidgets. See https://ipywidgets.readthedocs.io/en/stable/user_install.html\n",
      "  from .autonotebook import tqdm as notebook_tqdm\n"
     ]
    }
   ],
   "source": [
    "import os\n",
    "import pickle\n",
    "import numpy as np \n",
    "import torch\n",
    "from data.processor import CrossDockedDataProcessor"
   ]
  },
  {
   "cell_type": "code",
   "execution_count": 4,
   "metadata": {},
   "outputs": [],
   "source": [
    "DATA_DIRN = \"/home/wonho/work/data/CrossDocked2020_AR/crossdocked_pocket10/\"\n",
    "SPLIT_DIRN = \"/home/wonho/work/data/CrossDocked2020_AR/seq_split.pt\"\n",
    "KEY_DIRN = \"./crossdocked/keys/\""
   ]
  },
  {
   "cell_type": "code",
   "execution_count": 5,
   "metadata": {},
   "outputs": [],
   "source": [
    "prep = CrossDockedDataProcessor(\n",
    "    split_dir=SPLIT_DIRN,\n",
    "    data_dir=DATA_DIRN,\n",
    "    mode=\"test\",\n",
    "    save_dir=\"./crossdocked/data/\",\n",
    "    use_whole_protein=True,\n",
    "    predefined_scaffold=None,\n",
    "    max_atom_num=60\n",
    ")\n",
    "\n",
    "with open(os.path.join(KEY_DIRN, \"test_keys.pkl\"), 'wb') as w:\n",
    "    pickle.dump(prep.keys, w) "
   ]
  },
  {
   "cell_type": "code",
   "execution_count": 6,
   "metadata": {},
   "outputs": [
    {
     "name": "stdout",
     "output_type": "stream",
     "text": [
      "/home/wonho/work/data/CrossDocked2020_AR/crossdocked_pocket10/BSD_ASPTE_1_130_0/2z3h_A_rec_1wn6_bst_lig_tt_docked_3.sdf\n",
      "/home/wonho/work/data/CrossDocked2020_AR/crossdocked_pocket10/BSD_ASPTE_1_130_0/2z3h_A_rec_1wn6_bst_lig_tt_docked_3_pocket10.pdb\n",
      "100\n"
     ]
    }
   ],
   "source": [
    "print(prep.ligand_data_fns[0])\n",
    "print(prep.pocket_data_fns[0])\n",
    "print(len(prep))"
   ]
  },
  {
   "cell_type": "code",
   "execution_count": 7,
   "metadata": {},
   "outputs": [
    {
     "name": "stdout",
     "output_type": "stream",
     "text": [
      "0_BSD_ASPTE_1_130_0\n",
      "1_GLMU_STRPN_2_459_0\n",
      "2_GRK4_HUMAN_1_578_0\n",
      "3_GSTP1_HUMAN_2_210_0\n",
      "4_GUX1_HYPJE_18_451_0\n",
      "5_HDAC8_HUMAN_1_377_0\n",
      "6_HDHA_ECOLI_1_255_0\n",
      "7_HMD_METJA_1_358_0\n",
      "8_CCPR_YEAST_69_361_0\n",
      "9_IPMK_HUMAN_49_416_0\n",
      "10_CD38_HUMAN_44_300_0\n",
      "11_KS6A3_HUMAN_41_357_0\n",
      "12_CHOD_BREST_46_552_0\n",
      "13_LAT_MYCTU_1_449_0\n",
      "14_LMBL1_HUMAN_198_526_0\n",
      "15_LMBL1_HUMAN_198_526_0\n",
      "16_M3K14_HUMAN_321_678_0\n",
      "17_MENE_BACSU_2_486_0\n",
      "18_NAGZ_VIBCH_1_330_0\n",
      "19_NEP_HUMAN_54_750_0\n",
      "20_NQO1_HUMAN_2_274_0\n",
      "21_NQO1_HUMAN_2_274_0\n",
      "22_NR1H4_HUMAN_258_486_0\n",
      "23_OLIAC_CANSA_1_101_0\n",
      "24_PA21B_PIG_23_146_0\n",
      "25_PAK4_HUMAN_291_591_ATP_0\n",
      "26_PHKG1_RABIT_6_296_ATPsite_0\n",
      "27_PHP_SULSO_1_314_0\n",
      "28_COTA_BACSU_1_513_0\n",
      "29_PLCD1_RAT_134_756_0\n",
      "30_PNTM_STRAE_2_398_0\n",
      "31_CPXB_BACMB_2_464_0\n",
      "32_PPIA_HUMAN_1_165_0\n",
      "33_PTGIS_HUMAN_20_500_0\n",
      "34_QPCT_HUMAN_33_361_0\n",
      "35_RIBB_VIBCH_2_218_0\n",
      "36_RG1_RAUSE_1_513_0\n",
      "37_ROCO4_DICDI_1009_1292_0\n",
      "38_DPO4_SULSO_1_347_0\n",
      "39_SDIA_ECOLI_1_171_0\n",
      "40_DPP2_HUMAN_27_492_0\n",
      "41_TBK1_HUMAN_1_303_0\n",
      "42_TRAR_RHIRD_1_234_0\n",
      "43_UBE2T_HUMAN_1_156_0\n",
      "44_VAOX_PENSI_1_560_0\n",
      "45_XANLY_BACGL_26_777_0\n",
      "46_EFTU1_ECOLI_2_178_0\n",
      "47_F16P1_HUMAN_1_338_0\n",
      "48_FKB1A_HUMAN_2_108_0\n",
      "49_IDHP_HUMAN_40_452_0\n",
      "50_IMA1_HUMAN_68_497_0\n",
      "51_MCCF_ECOLX_1_344_0\n",
      "52_MURA_ECOLI_1_419_catalytic_0\n",
      "53_NOS1_HUMAN_302_723_0\n",
      "54_NOS1_HUMAN_302_723_0\n",
      "55_NOS2_HUMAN_78_505_0\n",
      "56_NOS3_HUMAN_65_480_0\n",
      "57_NOS3_HUMAN_65_480_0\n",
      "58_NPD_THEMA_1_246_0\n",
      "59_ODBB_THET8_1_324_0\n",
      "60_P2Y12_HUMAN_1_342_0\n",
      "61_PA2B8_DABRR_1_121_0\n",
      "62_PAC_ECOLX_27_846_0\n",
      "63_POL_FOAMV_861_1060_0\n",
      "64_AROE_THET8_1_263_0\n",
      "65_PYRD_TRYCC_2_314_catalytic_0\n",
      "66_PYRD_TRYCC_2_314_catalytic_0\n",
      "67_PYRE_BACAN_1_210_0\n",
      "68_SIR3_HUMAN_117_398_0\n",
      "69_BAZ2A_HUMAN_1795_1898_0\n",
      "70_SQHC_ALIAD_1_631_0\n",
      "71_TIAM1_HUMAN_840_931_0\n",
      "72_TNKS1_HUMAN_1099_1319_0\n",
      "73_TNKS2_HUMAN_948_1162_0\n",
      "74_UPPS_ECOLI_1_253_0\n",
      "75_Y635_MYCTU_1_158_0\n",
      "76_ABL2_HUMAN_274_551_0\n",
      "77_ACE_HUMAN_650_1230_0\n",
      "78_BGAT_HUMAN_63_353_0\n",
      "79_AK1BA_HUMAN_1_316_0\n",
      "80_AKT1_HUMAN_1_137_0\n",
      "81_BGL07_ORYSJ_25_504_0\n",
      "82_ATS5_HUMAN_262_480_0\n",
      "83_BACE2_HUMAN_76_460_0\n",
      "84_BAPA_SPHXN_30_402_0\n",
      "85_BTRN_BACCI_2_250_0\n",
      "86_CAT_ECOLX_1_219_0\n",
      "87_CDK6_HUMAN_1_312_0\n",
      "88_CDK6_HUMAN_1_312_0\n",
      "89_CHIB1_ASPFM_39_433_0\n",
      "90_CHIA_SERMA_19_563_0\n",
      "91_CHIB_SERMA_1_499_0\n",
      "92_CHIB_SERMA_1_499_0\n",
      "93_COAA_MYCTU_1_312_0\n",
      "94_CONA_CANCT_1_237_0\n",
      "95_DFPA_LOLVU_2_314_0\n",
      "96_DHAK_ECOLI_1_356_0\n",
      "97_DIDH_RAT_1_319_0\n",
      "98_DYRK2_HUMAN_145_550_0\n",
      "99_EXG1_CANAL_41_438_0\n"
     ]
    }
   ],
   "source": [
    "for i in range(len(prep)):\n",
    "    print(prep.keys[i])\n",
    "    os.system(f\"cp {prep.ligand_data_fns[i]} ./crossdocked/original/{prep.keys[i]}_ligand.sdf\")\n",
    "    os.system(f\"cp {prep.pocket_data_fns[i]} ./crossdocked/original/{prep.keys[i]}_pocket.pdb\")\n",
    "    if not os.path.exists(os.path.join(prep.save_dir, prep.keys[i])):\n",
    "        prep.run(i)"
   ]
  },
  {
   "cell_type": "markdown",
   "metadata": {},
   "source": []
  }
 ],
 "metadata": {
  "kernelspec": {
   "display_name": "wonho2",
   "language": "python",
   "name": "python3"
  },
  "language_info": {
   "codemirror_mode": {
    "name": "ipython",
    "version": 3
   },
   "file_extension": ".py",
   "mimetype": "text/x-python",
   "name": "python",
   "nbconvert_exporter": "python",
   "pygments_lexer": "ipython3",
   "version": "3.9.11"
  }
 },
 "nbformat": 4,
 "nbformat_minor": 2
}
